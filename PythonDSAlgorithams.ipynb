{
 "cells": [
  {
   "cell_type": "code",
   "execution_count": 0,
   "metadata": {
    "application/vnd.databricks.v1+cell": {
     "cellMetadata": {
      "byteLimit": 2048000,
      "rowLimit": 10000
     },
     "inputWidgets": {},
     "nuid": "e82fb9dd-cad3-4693-b579-0890ba56b356",
     "showTitle": false,
     "tableResultSettingsMap": {},
     "title": ""
    }
   },
   "outputs": [],
   "source": [
    "numofDays = int(input(\"How Many days you need to know the Temp?\"))\n",
    "total = 0\n",
    "for i in range(1,numofDays+1):\n",
    "    nextDay = int(input(\"What is the Temp for Day \"+str(i)+\"?\"))\n",
    "    total += nextDay\n",
    "\n",
    "avg = round(total/numofDays,2)\n",
    "print(\"The Average Temp for the next \"+str(numofDays)+\" days is \"+str(avg))"
   ]
  },
  {
   "cell_type": "code",
   "execution_count": 0,
   "metadata": {
    "application/vnd.databricks.v1+cell": {
     "cellMetadata": {
      "byteLimit": 2048000,
      "rowLimit": 10000
     },
     "inputWidgets": {},
     "nuid": "d8a93a07-eb4e-462c-b201-cac140a5e683",
     "showTitle": false,
     "tableResultSettingsMap": {},
     "title": ""
    }
   },
   "outputs": [],
   "source": [
    "numofDays = int(input(\"How Many days you need to know the Temp?\"))\n",
    "total = []\n",
    "Totsum = 0\n",
    "for i in range(numofDays):\n",
    "    nextDay = int(input(\"What is the Temp for Day \"+str(i+1)+\"?\"))\n",
    "    total.append(nextDay)\n",
    "    Totsum += total[i]\n",
    "    \n",
    "\n",
    "avg = round(Totsum/numofDays,2)\n",
    "print(\"The Average Temp for the next \"+str(numofDays)+\" days is \"+str(avg))\n",
    "\n",
    "daysabove=0\n",
    "for i in total:\n",
    "    if i > avg:\n",
    "        daysabove += 1\n",
    "print(f\"There are total {daysabove} days above the average\")\n"
   ]
  },
  {
   "cell_type": "code",
   "execution_count": 0,
   "metadata": {
    "application/vnd.databricks.v1+cell": {
     "cellMetadata": {
      "byteLimit": 2048000,
      "rowLimit": 10000
     },
     "inputWidgets": {},
     "nuid": "e7399796-69ee-4e3d-845d-ee5d9d64cc34",
     "showTitle": false,
     "tableResultSettingsMap": {},
     "title": ""
    }
   },
   "outputs": [],
   "source": [
    "\n",
    "def missing_number(arr, n):\n",
    "    num=[]\n",
    "    for i in range(1,n+1):\n",
    "        if arr[i-1] != i :\n",
    "            num.append(i)\n",
    "    return num\n",
    "\n",
    "missing_number([1,2,3,4,5,5],6)\n"
   ]
  },
  {
   "cell_type": "markdown",
   "metadata": {
    "application/vnd.databricks.v1+cell": {
     "cellMetadata": {},
     "inputWidgets": {},
     "nuid": "a57914b8-809c-4dfb-bf21-e79640d929ea",
     "showTitle": false,
     "tableResultSettingsMap": {},
     "title": ""
    }
   },
   "source": [
    "### Pair or Two Sums"
   ]
  },
  {
   "cell_type": "code",
   "execution_count": 0,
   "metadata": {
    "application/vnd.databricks.v1+cell": {
     "cellMetadata": {
      "byteLimit": 2048000,
      "rowLimit": 10000
     },
     "inputWidgets": {},
     "nuid": "7a6fb8f9-2c3b-4c0d-82cf-7de40f5b59e5",
     "showTitle": false,
     "tableResultSettingsMap": {},
     "title": ""
    }
   },
   "outputs": [],
   "source": [
    "def twosums(nums,target):\n",
    "    for i in range(len(nums)):\n",
    "        for j in range(i+1,len(nums)):\n",
    "            if nums[i]+nums[j] != target:\n",
    "                continue\n",
    "            elif nums[i]+nums[j] == target:\n",
    "                print(i,j)\n",
    "                \n",
    "twosums([2,7,11,3,15,16],18)"
   ]
  },
  {
   "cell_type": "markdown",
   "metadata": {
    "application/vnd.databricks.v1+cell": {
     "cellMetadata": {},
     "inputWidgets": {},
     "nuid": "d791ef32-e6cb-46fd-9bd7-048c749b45f8",
     "showTitle": false,
     "tableResultSettingsMap": {},
     "title": ""
    }
   },
   "source": [
    "### Max Product"
   ]
  },
  {
   "cell_type": "code",
   "execution_count": 0,
   "metadata": {
    "application/vnd.databricks.v1+cell": {
     "cellMetadata": {
      "byteLimit": 2048000,
      "rowLimit": 10000
     },
     "inputWidgets": {},
     "nuid": "563662df-416b-4f7c-b185-0d2216e2fa0d",
     "showTitle": false,
     "tableResultSettingsMap": {},
     "title": ""
    }
   },
   "outputs": [],
   "source": [
    "def maxproduct(arr):\n",
    "  arr.sort(reverse=True)\n",
    "  return arr[0]*arr[1]\n",
    "\n",
    "maxproduct([1,3,5,9,1,2,3,7,2])\n"
   ]
  },
  {
   "cell_type": "markdown",
   "metadata": {
    "application/vnd.databricks.v1+cell": {
     "cellMetadata": {},
     "inputWidgets": {},
     "nuid": "e2df1091-2dbd-4f67-b541-5d1f73b8dcfd",
     "showTitle": false,
     "tableResultSettingsMap": {},
     "title": ""
    }
   },
   "source": [
    "### Given 2D list calculate the sum of diagonal elements."
   ]
  },
  {
   "cell_type": "code",
   "execution_count": 0,
   "metadata": {
    "application/vnd.databricks.v1+cell": {
     "cellMetadata": {
      "byteLimit": 2048000,
      "rowLimit": 10000
     },
     "inputWidgets": {},
     "nuid": "994a725a-3ad8-4312-9719-8ba3f66cd3f4",
     "showTitle": false,
     "tableResultSettingsMap": {},
     "title": ""
    }
   },
   "outputs": [],
   "source": [
    "def diagonal_sum(matrix):\n",
    "    lst=[]\n",
    "    for i in range(len(matrix)):\n",
    "        lst.append(matrix[i][i])\n",
    "    return sum(lst)\n",
    "\n",
    "myList2D= [[1,2,3],[4,9,6],[7,8,9]] \n",
    " \n",
    "print(diagonal_sum(myList2D))"
   ]
  },
  {
   "cell_type": "markdown",
   "metadata": {
    "application/vnd.databricks.v1+cell": {
     "cellMetadata": {},
     "inputWidgets": {},
     "nuid": "9551ffa0-a7e7-4a14-a3f5-79309e8f30eb",
     "showTitle": false,
     "tableResultSettingsMap": {},
     "title": ""
    }
   },
   "source": [
    "### Best Score Given a list, write a function to get first, second best scores from the list.\n",
    "\n",
    "List may contain duplicates.\n",
    "\n",
    "Example\n",
    "\n",
    "myList = [84,85,86,87,85,90,85,83,23,45,84,1,2,0]\n",
    "first_second(myList) # 90 87"
   ]
  },
  {
   "cell_type": "code",
   "execution_count": 0,
   "metadata": {
    "application/vnd.databricks.v1+cell": {
     "cellMetadata": {
      "byteLimit": 2048000,
      "rowLimit": 10000
     },
     "inputWidgets": {},
     "nuid": "e358f11d-b670-4048-8ae6-0f656d677ee2",
     "showTitle": false,
     "tableResultSettingsMap": {},
     "title": ""
    }
   },
   "outputs": [],
   "source": [
    "def first_second(my_list):\n",
    "    set1 = set(my_list)\n",
    "    max1,max2=0,0\n",
    "    for num in set1:\n",
    "        if num > max1:\n",
    "            max2=max1\n",
    "            max1=num\n",
    "        elif num>max2:\n",
    "            max2=num\n",
    "    return max1,max2\n",
    "\n",
    "    \n",
    "myList = [84,85,86,87,85,90,85,83,90,23,64,45,84,1,2,0]\n",
    "print(first_second(myList))"
   ]
  },
  {
   "cell_type": "markdown",
   "metadata": {
    "application/vnd.databricks.v1+cell": {
     "cellMetadata": {},
     "inputWidgets": {},
     "nuid": "84be7054-f30d-4ac1-9d5b-2671b07b370c",
     "showTitle": false,
     "tableResultSettingsMap": {},
     "title": ""
    }
   },
   "source": [
    "### Write a function to remove the duplicate numbers on given integer array/list"
   ]
  },
  {
   "cell_type": "code",
   "execution_count": 0,
   "metadata": {
    "application/vnd.databricks.v1+cell": {
     "cellMetadata": {
      "byteLimit": 2048000,
      "rowLimit": 10000
     },
     "inputWidgets": {},
     "nuid": "022e8f68-cf17-4f73-a22b-ab069319bbe2",
     "showTitle": false,
     "tableResultSettingsMap": {},
     "title": ""
    }
   },
   "outputs": [],
   "source": [
    "dedup=[]\n",
    "def remove_duplicates(lst):\n",
    "    for i in lst:\n",
    "        if i not in dedup:\n",
    "          dedup.append(i)\n",
    "    return dedup\n",
    "remove_duplicates([1, 1, 2, 2, 3, 4, 5])"
   ]
  },
  {
   "cell_type": "markdown",
   "metadata": {
    "application/vnd.databricks.v1+cell": {
     "cellMetadata": {},
     "inputWidgets": {},
     "nuid": "1ef25a73-faa1-4fda-ae0b-bc8a90be4d8b",
     "showTitle": false,
     "tableResultSettingsMap": {},
     "title": ""
    }
   },
   "source": [
    "### Write a function to find all pairs of an integer array whose sum is equal to a given number. Do not consider commutative pairs.\n",
    "\n",
    "Example\n",
    "\n",
    "pair_sum([2, 4, 3, 5, 6, -2, 4, 7, 8, 9],7)\n",
    "Output : ['2+5', '4+3', '3+4', '-2+9']"
   ]
  },
  {
   "cell_type": "code",
   "execution_count": 0,
   "metadata": {
    "application/vnd.databricks.v1+cell": {
     "cellMetadata": {
      "byteLimit": 2048000,
      "rowLimit": 10000
     },
     "inputWidgets": {},
     "nuid": "60ea833d-bf5a-4eb4-bc2a-47829029b7be",
     "showTitle": false,
     "tableResultSettingsMap": {},
     "title": ""
    }
   },
   "outputs": [],
   "source": [
    "lst=[]\n",
    "def pairs(arr,n):\n",
    "  for i in range(len(arr)):\n",
    "    for j in range(i+1,len(arr)):\n",
    "      if arr[i]+arr[j] == n:\n",
    "        lst.append(f'({arr[i]},{arr[j]})')\n",
    "  return lst\n",
    "pairs([2, 4, 3, 5, 6, -2, 4, 7, 8, 9,-2],7)\n"
   ]
  },
  {
   "cell_type": "markdown",
   "metadata": {
    "application/vnd.databricks.v1+cell": {
     "cellMetadata": {},
     "inputWidgets": {},
     "nuid": "797543cd-57a2-4a7b-a5cd-ef3475963c5e",
     "showTitle": false,
     "tableResultSettingsMap": {},
     "title": ""
    }
   },
   "source": [
    "### Contains Duplicate\n",
    "Given an integer array nums, return true if any value appears at least twice in the array, and return false if every element is distinct."
   ]
  },
  {
   "cell_type": "code",
   "execution_count": 0,
   "metadata": {
    "application/vnd.databricks.v1+cell": {
     "cellMetadata": {
      "byteLimit": 2048000,
      "rowLimit": 10000
     },
     "inputWidgets": {},
     "nuid": "10cb13d2-388a-4874-ae77-16ef39b2cefd",
     "showTitle": false,
     "tableResultSettingsMap": {},
     "title": ""
    }
   },
   "outputs": [],
   "source": [
    "def contains_duplicates(arr):\n",
    "  set1 = set(arr)\n",
    "  if len(set1) == len(arr):\n",
    "    return 'Identical'\n",
    "  else:\n",
    "    return 'Not Identical'\n",
    "contains_duplicates([1,2,3,4,5,6,7,8,9,10])\n"
   ]
  },
  {
   "cell_type": "markdown",
   "metadata": {
    "application/vnd.databricks.v1+cell": {
     "cellMetadata": {},
     "inputWidgets": {},
     "nuid": "7659a588-bf59-42f4-9cce-8521949853f3",
     "showTitle": false,
     "tableResultSettingsMap": {},
     "title": ""
    }
   },
   "source": [
    "### Rotate Matrix/ Image - LeetCode 48\n",
    "Input: matrix = [[1,2,3],[4,5,6],[7,8,9]]\n",
    "Output: [[7,4,1],[8,5,2],[9,6,3]]"
   ]
  },
  {
   "cell_type": "code",
   "execution_count": 0,
   "metadata": {
    "application/vnd.databricks.v1+cell": {
     "cellMetadata": {
      "byteLimit": 2048000,
      "rowLimit": 10000
     },
     "inputWidgets": {},
     "nuid": "db5d3cfa-6412-4149-88e4-0a11588a9e7f",
     "showTitle": false,
     "tableResultSettingsMap": {},
     "title": ""
    }
   },
   "outputs": [],
   "source": [
    "outlst =[]\n",
    "matrix = [[1,2,3],[4,5,6],[7,8,9]]\n",
    "for i in range(len(matrix)):\n",
    "  for j in range(len(matrix[i])-1,0,-1):\n",
    "    outlst.append(matrix[j][i])\n",
    "print(outlst)\n"
   ]
  },
  {
   "cell_type": "markdown",
   "metadata": {
    "application/vnd.databricks.v1+cell": {
     "cellMetadata": {},
     "inputWidgets": {},
     "nuid": "7b218dad-5f74-43fc-ae53-f7282f8b9c0b",
     "showTitle": false,
     "tableResultSettingsMap": {},
     "title": ""
    }
   },
   "source": [
    "### Product and Sum"
   ]
  },
  {
   "cell_type": "code",
   "execution_count": 0,
   "metadata": {
    "application/vnd.databricks.v1+cell": {
     "cellMetadata": {
      "byteLimit": 2048000,
      "rowLimit": 10000
     },
     "inputWidgets": {},
     "nuid": "701fe7da-2a4c-462e-8925-c3e673c64ab6",
     "showTitle": false,
     "tableResultSettingsMap": {},
     "title": ""
    }
   },
   "outputs": [],
   "source": [
    "arr=[3,1,4,5,3,6,7]\n",
    "def prdsum(arr):\n",
    "  prd=1\n",
    "  sum=0\n",
    "  for i in range(len(arr)):\n",
    "    prd *= arr[i]\n",
    "    sum += arr[i]\n",
    "  return prd,sum\n",
    "prdsum(arr)"
   ]
  },
  {
   "cell_type": "markdown",
   "metadata": {
    "application/vnd.databricks.v1+cell": {
     "cellMetadata": {},
     "inputWidgets": {},
     "nuid": "466da501-ac79-4d5d-a1a6-f1933a18d891",
     "showTitle": false,
     "tableResultSettingsMap": {},
     "title": ""
    }
   },
   "source": [
    "##                 *****************************Dictionary\n",
    "#### Define a function to count the frequency of words in a given list of words."
   ]
  },
  {
   "cell_type": "code",
   "execution_count": 0,
   "metadata": {
    "application/vnd.databricks.v1+cell": {
     "cellMetadata": {
      "byteLimit": 2048000,
      "rowLimit": 10000
     },
     "inputWidgets": {},
     "nuid": "b67516d8-fef3-4ed9-8052-80f38f64db59",
     "showTitle": false,
     "tableResultSettingsMap": {},
     "title": ""
    }
   },
   "outputs": [],
   "source": [
    "words = ['apple', 'orange', 'banana', 'apple', 'orange', 'apple'] \n",
    "def count_word_frequency(words):\n",
    "  dict1 = {}\n",
    "  for i in words:\n",
    "    if i not in dict1:\n",
    "      dict1[i]=1\n",
    "    else:\n",
    "      dict1[i]+=1\n",
    "  return dict1\n",
    "count_word_frequency(words)   "
   ]
  },
  {
   "cell_type": "markdown",
   "metadata": {
    "application/vnd.databricks.v1+cell": {
     "cellMetadata": {},
     "inputWidgets": {},
     "nuid": "544dd4c9-82eb-47a5-bcc9-9f1458f22b9f",
     "showTitle": false,
     "tableResultSettingsMap": {},
     "title": ""
    }
   },
   "source": [
    "### Common Keys\n",
    "Define a function with takes two dictionaries as parameters and merge them and sum the values of common keys.\n",
    "\n",
    "Example:\n",
    "\n",
    "dict1 = {'a': 1, 'b': 2, 'c': 3}\n",
    "dict2 = {'b': 3, 'c': 4, 'd': 5}\n",
    "merge_dicts(dict1, dict2)"
   ]
  },
  {
   "cell_type": "code",
   "execution_count": 0,
   "metadata": {
    "application/vnd.databricks.v1+cell": {
     "cellMetadata": {
      "byteLimit": 2048000,
      "rowLimit": 10000
     },
     "inputWidgets": {},
     "nuid": "c2e45651-8184-426d-98e8-b54f38a49678",
     "showTitle": false,
     "tableResultSettingsMap": {},
     "title": ""
    }
   },
   "outputs": [],
   "source": [
    "def merge_dicts(dict1, dict2):\n",
    "  for key,value in dict2.items():\n",
    "    if key in dict1:\n",
    "      dict1[key]+=value\n",
    "    else:\n",
    "      dict1[key]=value\n",
    "  return dict1\n",
    "merge_dicts({'a': 1, 'b': 2}, {'b': 3, 'c': 4})\n"
   ]
  },
  {
   "cell_type": "code",
   "execution_count": 0,
   "metadata": {
    "application/vnd.databricks.v1+cell": {
     "cellMetadata": {
      "byteLimit": 2048000,
      "rowLimit": 10000
     },
     "inputWidgets": {},
     "nuid": "269691b1-7d88-49e0-bee7-fa1e11e2e77d",
     "showTitle": false,
     "tableResultSettingsMap": {},
     "title": ""
    }
   },
   "outputs": [],
   "source": [
    "dict1={'a': 1, 'b': 2}\n",
    "print(dict1.get('c',0))"
   ]
  },
  {
   "cell_type": "markdown",
   "metadata": {
    "application/vnd.databricks.v1+cell": {
     "cellMetadata": {},
     "inputWidgets": {},
     "nuid": "d59edc19-3da2-431c-8928-d4e57f8933d8",
     "showTitle": false,
     "tableResultSettingsMap": {},
     "title": ""
    }
   },
   "source": [
    "\n",
    "### Key with the Highest Value\n",
    "Define a function which takes a dictionary as a parameter and returns the key with the highest value in a dictionary.\n",
    "\n",
    "Example:\n",
    "\n",
    "my_dict = {'a': 5, 'b': 9, 'c': 2}\n",
    "max_value_key(my_dict))\n",
    "\n",
    "\n",
    "Output:\n",
    "\n",
    "b"
   ]
  },
  {
   "cell_type": "code",
   "execution_count": 0,
   "metadata": {
    "application/vnd.databricks.v1+cell": {
     "cellMetadata": {
      "byteLimit": 2048000,
      "rowLimit": 10000
     },
     "inputWidgets": {},
     "nuid": "f870a8b2-25b9-43ca-915c-0c1d5cb54aec",
     "showTitle": false,
     "tableResultSettingsMap": {},
     "title": ""
    }
   },
   "outputs": [],
   "source": [
    "def max_val_key(dict1):\n",
    "  max_val = max(dict1.values())\n",
    "  for key,value in dict1.items():\n",
    "    if value == max_val:\n",
    "      return key\n",
    "max_val_key({'a': 1, 'b': 9, 'c': 3})"
   ]
  },
  {
   "cell_type": "code",
   "execution_count": 0,
   "metadata": {
    "application/vnd.databricks.v1+cell": {
     "cellMetadata": {
      "byteLimit": 2048000,
      "rowLimit": 10000
     },
     "inputWidgets": {},
     "nuid": "80c06d1f-8112-4c92-96e4-f6b67ef25445",
     "showTitle": false,
     "tableResultSettingsMap": {},
     "title": ""
    }
   },
   "outputs": [],
   "source": [
    "def max_value_key(my_dict):\n",
    "    return max(my_dict, key=my_dict.get)\n",
    "max_val_key({'a': 10, 'b': 9, 'c': 3})"
   ]
  },
  {
   "cell_type": "markdown",
   "metadata": {
    "application/vnd.databricks.v1+cell": {
     "cellMetadata": {},
     "inputWidgets": {},
     "nuid": "4f8b0005-c4ea-4b8a-8e53-4d08e391daa7",
     "showTitle": false,
     "tableResultSettingsMap": {},
     "title": ""
    }
   },
   "source": [
    "### Reverse Key-Value Pairs\n",
    "Define a function which takes as a parameter dictionary and returns a dictionary in which everse the key-value pairs are reversed.\n",
    "\n",
    "Example:\n",
    "\n",
    "my_dict = {'a': 1, 'b': 2, 'c': 3}\n",
    "reverse_dict(my_dict)\n",
    "Output:\n",
    "\n",
    "{1: 'a', 2: 'b', 3: 'c'}"
   ]
  },
  {
   "cell_type": "code",
   "execution_count": 0,
   "metadata": {
    "application/vnd.databricks.v1+cell": {
     "cellMetadata": {
      "byteLimit": 2048000,
      "rowLimit": 10000
     },
     "inputWidgets": {},
     "nuid": "ec094841-bf88-424e-9e41-2006a7d63fda",
     "showTitle": false,
     "tableResultSettingsMap": {},
     "title": ""
    }
   },
   "outputs": [],
   "source": [
    "def reverse_dict(dict1):\n",
    "  dict2 = {}\n",
    "  for key,value in dict1.items():\n",
    "    dict2[value]=key\n",
    "  return dict2\n",
    "reverse_dict({'a': 1, 'b': 2, 'c': 3})\n"
   ]
  },
  {
   "cell_type": "code",
   "execution_count": 0,
   "metadata": {
    "application/vnd.databricks.v1+cell": {
     "cellMetadata": {
      "byteLimit": 2048000,
      "rowLimit": 10000
     },
     "inputWidgets": {},
     "nuid": "3c8d5371-e5aa-4f85-b334-53926f174e22",
     "showTitle": false,
     "tableResultSettingsMap": {},
     "title": ""
    }
   },
   "outputs": [],
   "source": [
    "def reverse_dict(my_dict):\n",
    "    return {v: k for k, v in my_dict.items()}\n",
    "reverse_dict({'a': 1, 'b': 4, 'c': 3})"
   ]
  },
  {
   "cell_type": "markdown",
   "metadata": {
    "application/vnd.databricks.v1+cell": {
     "cellMetadata": {},
     "inputWidgets": {},
     "nuid": "33d12298-ba98-48da-bee7-26610906ad1c",
     "showTitle": false,
     "tableResultSettingsMap": {},
     "title": ""
    }
   },
   "source": [
    "### \n",
    "Conditional Filter\n",
    "Define a function that takes a dictionary as a parameter and returns a dictionary with elements based on a condition.\n",
    "\n",
    "Example:\n",
    "\n",
    "my_dict = {'a': 1, 'b': 2, 'c': 3, 'd': 4} \n",
    "filtered_dict = filter_dict(my_dict, lambda k, v: v % 2 == 0) \n",
    "Output:\n",
    "\n",
    "{'b': 2, 'd': 4}"
   ]
  },
  {
   "cell_type": "code",
   "execution_count": 0,
   "metadata": {
    "application/vnd.databricks.v1+cell": {
     "cellMetadata": {
      "byteLimit": 2048000,
      "rowLimit": 10000
     },
     "inputWidgets": {},
     "nuid": "a47978bf-69a9-4575-b0c8-592631f53f6a",
     "showTitle": false,
     "tableResultSettingsMap": {},
     "title": ""
    }
   },
   "outputs": [],
   "source": [
    "def filt_dict(dict1,condition):\n",
    "  return {key:value for key,value in dict1.items() if condition(value)}\n",
    "dict1={'a': 1, 'b': 2, 'c': 3}\n",
    "filt_dict(dict1,lambda x: x % 2==0)    \n"
   ]
  },
  {
   "cell_type": "markdown",
   "metadata": {
    "application/vnd.databricks.v1+cell": {
     "cellMetadata": {},
     "inputWidgets": {},
     "nuid": "a5031985-f834-459d-a027-70b6dbe5cab0",
     "showTitle": false,
     "tableResultSettingsMap": {},
     "title": ""
    }
   },
   "source": [
    "### Same Frequency\n",
    "Define a function which takes two lists as parameters and check if two given lists have the same frequency of elements.\n",
    "\n",
    "Example:\n",
    "\n",
    "list1 = [1, 2, 3, 2, 1]\n",
    "list2 = [3, 1, 2, 1, 3]\n",
    "check_same_frequency(list1, list2)\n",
    "Output:\n",
    "\n",
    "False"
   ]
  },
  {
   "cell_type": "code",
   "execution_count": 0,
   "metadata": {
    "application/vnd.databricks.v1+cell": {
     "cellMetadata": {
      "byteLimit": 2048000,
      "rowLimit": 10000
     },
     "inputWidgets": {},
     "nuid": "ee9f8404-7c68-4c9f-9017-683937e837f1",
     "showTitle": false,
     "tableResultSettingsMap": {},
     "title": ""
    }
   },
   "outputs": [],
   "source": [
    "def check_same_frequency(list1, list2):\n",
    "    for i,j in zip(list1,list2):\n",
    "        if i != j:\n",
    "            return False\n",
    "        else:\n",
    "            return True\n",
    " \n",
    "\n",
    "list1 = [1, 2, 3, 2, 1]\n",
    "list2 = [3, 1, 2, 1, 3]\n",
    "check_same_frequency(list1, list2)"
   ]
  },
  {
   "cell_type": "code",
   "execution_count": 0,
   "metadata": {
    "application/vnd.databricks.v1+cell": {
     "cellMetadata": {
      "byteLimit": 2048000,
      "rowLimit": 10000
     },
     "inputWidgets": {},
     "nuid": "e25ee997-5892-493e-b2f5-db044a80dce2",
     "showTitle": false,
     "tableResultSettingsMap": {},
     "title": ""
    }
   },
   "outputs": [],
   "source": [
    "list1 = [1, 2, 3, 2, 1]\n",
    "list2 = [1, 2, 3, 2, 1]\n",
    "check_same_frequency(list1, list2)"
   ]
  },
  {
   "cell_type": "code",
   "execution_count": 0,
   "metadata": {
    "application/vnd.databricks.v1+cell": {
     "cellMetadata": {
      "byteLimit": 2048000,
      "rowLimit": 10000
     },
     "inputWidgets": {},
     "nuid": "9aada14d-7b2a-44fe-ae4a-d950ed8ccfe2",
     "showTitle": false,
     "tableResultSettingsMap": {},
     "title": ""
    }
   },
   "outputs": [],
   "source": [
    "def check_same_frequency(list1, list2):\n",
    "    def count_elements(lst):\n",
    "        counter = {}\n",
    "        for element in lst:\n",
    "            counter[element] = counter.get(element, 0) + 1\n",
    "        return counter\n",
    "    \n",
    "    return count_elements(list1) == count_elements(list2)\n",
    "list1 = [1, 2, 3, 2, 1]\n",
    "list2 = [1, 2, 3, 2, 1]\n",
    "check_same_frequency(list1, list2)\n"
   ]
  },
  {
   "cell_type": "markdown",
   "metadata": {
    "application/vnd.databricks.v1+cell": {
     "cellMetadata": {},
     "inputWidgets": {},
     "nuid": "39b8f3d2-a0e7-4bbb-b67c-2cf4e20c7832",
     "showTitle": false,
     "tableResultSettingsMap": {},
     "title": ""
    }
   },
   "source": [
    "### Product and sum of Tuple\n"
   ]
  },
  {
   "cell_type": "code",
   "execution_count": 0,
   "metadata": {
    "application/vnd.databricks.v1+cell": {
     "cellMetadata": {
      "byteLimit": 2048000,
      "rowLimit": 10000
     },
     "inputWidgets": {},
     "nuid": "27e3b52a-2992-419c-b139-4da4d8f2d3c5",
     "showTitle": false,
     "tableResultSettingsMap": {},
     "title": ""
    }
   },
   "outputs": [],
   "source": [
    "\n",
    "def sum_product(input_tuple):\n",
    "    # TODO\n",
    "    sum_result=0\n",
    "    prod_res=1\n",
    "    for i in input_tuple:\n",
    "        sum_result=sum_result+i\n",
    "        prod_res = prod_res * i\n",
    "    return sum_result,prod_res\n",
    "        \n",
    "input_tuple = (1, 2, 3, 4)\n",
    "sum_result1,prod_Results=sum_product(input_tuple)\n",
    "print(sum_result1)\n",
    "print(prod_Results)"
   ]
  },
  {
   "cell_type": "markdown",
   "metadata": {
    "application/vnd.databricks.v1+cell": {
     "cellMetadata": {},
     "inputWidgets": {},
     "nuid": "50977f98-1a51-4da5-82c9-4db273b5c87f",
     "showTitle": false,
     "tableResultSettingsMap": {},
     "title": ""
    }
   },
   "source": [
    "### \n",
    "Elementwise Sum\n",
    "Create a function that takes two tuples and returns a tuple containing the element-wise sum of the input tuples.\n",
    "\n",
    "Example\n",
    "\n",
    "tuple1 = (1, 2, 3)\n",
    "tuple2 = (4, 5, 6)\n",
    "output_tuple = tuple_elementwise_sum(tuple1, tuple2)\n",
    "print(output_tuple)  # Expected output: (5, 7, 9)\n"
   ]
  },
  {
   "cell_type": "code",
   "execution_count": 0,
   "metadata": {
    "application/vnd.databricks.v1+cell": {
     "cellMetadata": {
      "byteLimit": 2048000,
      "rowLimit": 10000
     },
     "inputWidgets": {},
     "nuid": "0c6e70bb-cb0c-49a4-a8fe-9f7323e03181",
     "showTitle": false,
     "tableResultSettingsMap": {},
     "title": ""
    }
   },
   "outputs": [],
   "source": [
    "def elementwise_sum(tup1,tup2):\n",
    "  if len(tup1) != len(tup2):\n",
    "    raise ValueError(\"Tuples must have the same length\")\n",
    "  else:\n",
    "    return tuple(x + y for x, y in zip(tup1, tup2))\n",
    "tup1 = (1, 2, 3)\n",
    "tup2 = (4, 5, 6)\n",
    "result = elementwise_sum(tup1, tup2)\n",
    "print(result)"
   ]
  },
  {
   "cell_type": "code",
   "execution_count": 0,
   "metadata": {
    "application/vnd.databricks.v1+cell": {
     "cellMetadata": {
      "byteLimit": 2048000,
      "rowLimit": 10000
     },
     "inputWidgets": {},
     "nuid": "74e2851e-fe44-4f97-b3bd-f67bbd1ebf7e",
     "showTitle": false,
     "tableResultSettingsMap": {},
     "title": ""
    }
   },
   "outputs": [],
   "source": [
    "tup1=(1,2,3)\n",
    "tup2=(4,5,6)\n",
    "print(tup1+tup2)"
   ]
  },
  {
   "cell_type": "code",
   "execution_count": 0,
   "metadata": {
    "application/vnd.databricks.v1+cell": {
     "cellMetadata": {},
     "inputWidgets": {},
     "nuid": "c2166127-8dd9-484a-a289-bd351dc1790b",
     "showTitle": false,
     "tableResultSettingsMap": {},
     "title": ""
    }
   },
   "outputs": [],
   "source": []
  }
 ],
 "metadata": {
  "application/vnd.databricks.v1+notebook": {
   "computePreferences": null,
   "dashboards": [],
   "environmentMetadata": {
    "base_environment": "",
    "environment_version": "2"
   },
   "inputWidgetPreferences": null,
   "language": "python",
   "notebookMetadata": {
    "pythonIndentUnit": 4
   },
   "notebookName": "PythonDSAlgorithams",
   "widgets": {}
  },
  "language_info": {
   "name": "python"
  }
 },
 "nbformat": 4,
 "nbformat_minor": 0
}
