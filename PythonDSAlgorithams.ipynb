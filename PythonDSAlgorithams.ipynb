{
 "cells": [
  {
   "cell_type": "code",
   "execution_count": 0,
   "metadata": {
    "application/vnd.databricks.v1+cell": {
     "cellMetadata": {
      "byteLimit": 2048000,
      "rowLimit": 10000
     },
     "inputWidgets": {},
     "nuid": "e82fb9dd-cad3-4693-b579-0890ba56b356",
     "showTitle": false,
     "tableResultSettingsMap": {},
     "title": ""
    }
   },
   "outputs": [],
   "source": [
    "numofDays = int(input(\"How Many days you need to know the Temp?\"))\n",
    "total = 0\n",
    "for i in range(1,numofDays+1):\n",
    "    nextDay = int(input(\"What is the Temp for Day \"+str(i)+\"?\"))\n",
    "    total += nextDay\n",
    "\n",
    "avg = round(total/numofDays,2)\n",
    "print(\"The Average Temp for the next \"+str(numofDays)+\" days is \"+str(avg))"
   ]
  },
  {
   "cell_type": "code",
   "execution_count": 0,
   "metadata": {
    "application/vnd.databricks.v1+cell": {
     "cellMetadata": {
      "byteLimit": 2048000,
      "rowLimit": 10000
     },
     "inputWidgets": {},
     "nuid": "d8a93a07-eb4e-462c-b201-cac140a5e683",
     "showTitle": false,
     "tableResultSettingsMap": {},
     "title": ""
    }
   },
   "outputs": [],
   "source": [
    "numofDays = int(input(\"How Many days you need to know the Temp?\"))\n",
    "total = []\n",
    "Totsum = 0\n",
    "for i in range(numofDays):\n",
    "    nextDay = int(input(\"What is the Temp for Day \"+str(i+1)+\"?\"))\n",
    "    total.append(nextDay)\n",
    "    Totsum += total[i]\n",
    "    \n",
    "\n",
    "avg = round(Totsum/numofDays,2)\n",
    "print(\"The Average Temp for the next \"+str(numofDays)+\" days is \"+str(avg))\n",
    "\n",
    "daysabove=0\n",
    "for i in total:\n",
    "    if i > avg:\n",
    "        daysabove += 1\n",
    "print(f\"There are total {daysabove} days above the average\")\n"
   ]
  },
  {
   "cell_type": "code",
   "execution_count": 0,
   "metadata": {
    "application/vnd.databricks.v1+cell": {
     "cellMetadata": {
      "byteLimit": 2048000,
      "rowLimit": 10000
     },
     "inputWidgets": {},
     "nuid": "e7399796-69ee-4e3d-845d-ee5d9d64cc34",
     "showTitle": false,
     "tableResultSettingsMap": {},
     "title": ""
    }
   },
   "outputs": [],
   "source": [
    "\n",
    "def missing_number(arr, n):\n",
    "    num=[]\n",
    "    for i in range(1,n+1):\n",
    "        if arr[i-1] != i :\n",
    "            num.append(i)\n",
    "    return num\n",
    "\n",
    "missing_number([1,2,3,4,5,5],6)\n"
   ]
  },
  {
   "cell_type": "markdown",
   "metadata": {
    "application/vnd.databricks.v1+cell": {
     "cellMetadata": {},
     "inputWidgets": {},
     "nuid": "a57914b8-809c-4dfb-bf21-e79640d929ea",
     "showTitle": false,
     "tableResultSettingsMap": {},
     "title": ""
    }
   },
   "source": [
    "### Pair or Two Sums"
   ]
  },
  {
   "cell_type": "code",
   "execution_count": 0,
   "metadata": {
    "application/vnd.databricks.v1+cell": {
     "cellMetadata": {
      "byteLimit": 2048000,
      "rowLimit": 10000
     },
     "inputWidgets": {},
     "nuid": "7a6fb8f9-2c3b-4c0d-82cf-7de40f5b59e5",
     "showTitle": false,
     "tableResultSettingsMap": {},
     "title": ""
    }
   },
   "outputs": [],
   "source": [
    "def twosums(nums,target):\n",
    "    for i in range(len(nums)):\n",
    "        for j in range(i+1,len(nums)):\n",
    "            if nums[i]+nums[j] != target:\n",
    "                continue\n",
    "            elif nums[i]+nums[j] == target:\n",
    "                print(i,j)\n",
    "                \n",
    "twosums([2,7,11,3,15,16],18)"
   ]
  },
  {
   "cell_type": "markdown",
   "metadata": {
    "application/vnd.databricks.v1+cell": {
     "cellMetadata": {},
     "inputWidgets": {},
     "nuid": "d791ef32-e6cb-46fd-9bd7-048c749b45f8",
     "showTitle": false,
     "tableResultSettingsMap": {},
     "title": ""
    }
   },
   "source": [
    "### Max Product"
   ]
  },
  {
   "cell_type": "code",
   "execution_count": 0,
   "metadata": {
    "application/vnd.databricks.v1+cell": {
     "cellMetadata": {
      "byteLimit": 2048000,
      "rowLimit": 10000
     },
     "inputWidgets": {},
     "nuid": "563662df-416b-4f7c-b185-0d2216e2fa0d",
     "showTitle": false,
     "tableResultSettingsMap": {},
     "title": ""
    }
   },
   "outputs": [],
   "source": [
    "def maxproduct(arr):\n",
    "  arr.sort(reverse=True)\n",
    "  return arr[0]*arr[1]\n",
    "\n",
    "maxproduct([1,3,5,9,1,2,3,7,2])\n"
   ]
  },
  {
   "cell_type": "markdown",
   "metadata": {
    "application/vnd.databricks.v1+cell": {
     "cellMetadata": {},
     "inputWidgets": {},
     "nuid": "e2df1091-2dbd-4f67-b541-5d1f73b8dcfd",
     "showTitle": false,
     "tableResultSettingsMap": {},
     "title": ""
    }
   },
   "source": [
    "### Given 2D list calculate the sum of diagonal elements."
   ]
  },
  {
   "cell_type": "code",
   "execution_count": 0,
   "metadata": {
    "application/vnd.databricks.v1+cell": {
     "cellMetadata": {
      "byteLimit": 2048000,
      "rowLimit": 10000
     },
     "inputWidgets": {},
     "nuid": "994a725a-3ad8-4312-9719-8ba3f66cd3f4",
     "showTitle": false,
     "tableResultSettingsMap": {},
     "title": ""
    }
   },
   "outputs": [],
   "source": [
    "def diagonal_sum(matrix):\n",
    "    lst=[]\n",
    "    for i in range(len(matrix)):\n",
    "        lst.append(matrix[i][i])\n",
    "    return sum(lst)\n",
    "\n",
    "myList2D= [[1,2,3],[4,9,6],[7,8,9]] \n",
    " \n",
    "print(diagonal_sum(myList2D))"
   ]
  },
  {
   "cell_type": "markdown",
   "metadata": {
    "application/vnd.databricks.v1+cell": {
     "cellMetadata": {},
     "inputWidgets": {},
     "nuid": "9551ffa0-a7e7-4a14-a3f5-79309e8f30eb",
     "showTitle": false,
     "tableResultSettingsMap": {},
     "title": ""
    }
   },
   "source": [
    "### Best Score Given a list, write a function to get first, second best scores from the list.\n",
    "\n",
    "List may contain duplicates.\n",
    "\n",
    "Example\n",
    "\n",
    "myList = [84,85,86,87,85,90,85,83,23,45,84,1,2,0]\n",
    "first_second(myList) # 90 87"
   ]
  },
  {
   "cell_type": "code",
   "execution_count": 0,
   "metadata": {
    "application/vnd.databricks.v1+cell": {
     "cellMetadata": {
      "byteLimit": 2048000,
      "rowLimit": 10000
     },
     "inputWidgets": {},
     "nuid": "e358f11d-b670-4048-8ae6-0f656d677ee2",
     "showTitle": false,
     "tableResultSettingsMap": {},
     "title": ""
    }
   },
   "outputs": [],
   "source": [
    "def first_second(my_list):\n",
    "    set1 = set(my_list)\n",
    "    max1,max2=0,0\n",
    "    for num in set1:\n",
    "        if num > max1:\n",
    "            max2=max1\n",
    "            max1=num\n",
    "        elif num>max2:\n",
    "            max2=num\n",
    "    return max1,max2\n",
    "\n",
    "    \n",
    "myList = [84,85,86,87,85,90,85,83,90,23,64,45,84,1,2,0]\n",
    "print(first_second(myList))"
   ]
  },
  {
   "cell_type": "code",
   "execution_count": 0,
   "metadata": {
    "application/vnd.databricks.v1+cell": {
     "cellMetadata": {},
     "inputWidgets": {},
     "nuid": "022e8f68-cf17-4f73-a22b-ab069319bbe2",
     "showTitle": false,
     "tableResultSettingsMap": {},
     "title": ""
    }
   },
   "outputs": [],
   "source": []
  }
 ],
 "metadata": {
  "application/vnd.databricks.v1+notebook": {
   "computePreferences": null,
   "dashboards": [],
   "environmentMetadata": {
    "base_environment": "",
    "environment_version": "2"
   },
   "inputWidgetPreferences": null,
   "language": "python",
   "notebookMetadata": {
    "pythonIndentUnit": 4
   },
   "notebookName": "PythonDSAlgorithams",
   "widgets": {}
  },
  "language_info": {
   "name": "python"
  }
 },
 "nbformat": 4,
 "nbformat_minor": 0
}
